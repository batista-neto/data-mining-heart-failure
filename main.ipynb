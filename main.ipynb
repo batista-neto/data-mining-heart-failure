{
 "cells": [
  {
   "cell_type": "markdown",
   "metadata": {},
   "source": [
    "Para começarmos os tratamentos de dados, primeiro vamos fazer uma análise sobre o data set. Para isso precisamos carrega-lo."
   ]
  },
  {
   "cell_type": "code",
   "execution_count": 5,
   "metadata": {},
   "outputs": [
    {
     "name": "stdout",
     "output_type": "stream",
     "text": [
      "Dataset carregado com sucesso!\n"
     ]
    }
   ],
   "source": [
    "from DataLoader.DataLoading import DataLoader\n",
    "\n",
    "#Carregando o dataset\n",
    "dataLoader = DataLoader('./Datasets/heart_failure_clinical_records_dataset.csv')\n",
    "dataset = dataLoader.load_data()"
   ]
  },
  {
   "cell_type": "markdown",
   "metadata": {},
   "source": [
    "Agora que ja carregamos o dataset, vamos fazer as primeiras análises básicas para entender como os dados são organizados, podendo ver tambem os seus tipos."
   ]
  },
  {
   "cell_type": "code",
   "execution_count": 6,
   "metadata": {},
   "outputs": [
    {
     "name": "stdout",
     "output_type": "stream",
     "text": [
      "Primeiras linhas do dataset:\n",
      "    age  anaemia  creatinine_phosphokinase  ...  smoking  time  DEATH_EVENT\n",
      "0  75.0        0                       582  ...        0     4            1\n",
      "1  55.0        0                      7861  ...        0     6            1\n",
      "2  65.0        0                       146  ...        1     7            1\n",
      "3  50.0        1                       111  ...        0     7            1\n",
      "4  65.0        1                       160  ...        0     8            1\n",
      "\n",
      "[5 rows x 13 columns]\n",
      "\n",
      "Resumo estatístico do dataset:\n",
      "              age     anaemia  ...        time  DEATH_EVENT\n",
      "count  299.000000  299.000000  ...  299.000000    299.00000\n",
      "mean    60.833893    0.431438  ...  130.260870      0.32107\n",
      "std     11.894809    0.496107  ...   77.614208      0.46767\n",
      "min     40.000000    0.000000  ...    4.000000      0.00000\n",
      "25%     51.000000    0.000000  ...   73.000000      0.00000\n",
      "50%     60.000000    0.000000  ...  115.000000      0.00000\n",
      "75%     70.000000    1.000000  ...  203.000000      1.00000\n",
      "max     95.000000    1.000000  ...  285.000000      1.00000\n",
      "\n",
      "[8 rows x 13 columns]\n",
      "\n",
      "Informações sobre os tipos de dados:\n",
      "<class 'pandas.core.frame.DataFrame'>\n",
      "RangeIndex: 299 entries, 0 to 298\n",
      "Data columns (total 13 columns):\n",
      " #   Column                    Non-Null Count  Dtype  \n",
      "---  ------                    --------------  -----  \n",
      " 0   age                       299 non-null    float64\n",
      " 1   anaemia                   299 non-null    int64  \n",
      " 2   creatinine_phosphokinase  299 non-null    int64  \n",
      " 3   diabetes                  299 non-null    int64  \n",
      " 4   ejection_fraction         299 non-null    int64  \n",
      " 5   high_blood_pressure       299 non-null    int64  \n",
      " 6   platelets                 299 non-null    float64\n",
      " 7   serum_creatinine          299 non-null    float64\n",
      " 8   serum_sodium              299 non-null    int64  \n",
      " 9   sex                       299 non-null    int64  \n",
      " 10  smoking                   299 non-null    int64  \n",
      " 11  time                      299 non-null    int64  \n",
      " 12  DEATH_EVENT               299 non-null    int64  \n",
      "dtypes: float64(3), int64(10)\n",
      "memory usage: 30.5 KB\n",
      "None\n"
     ]
    }
   ],
   "source": [
    "from DataEngineering.DataExplorer import DataExplorer\n",
    "\n",
    "#Análise inicial\n",
    "data_explorer = DataExplorer(dataset)\n",
    "data_explorer.analyze()"
   ]
  },
  {
   "cell_type": "code",
   "execution_count": 7,
   "metadata": {},
   "outputs": [
    {
     "name": "stdout",
     "output_type": "stream",
     "text": [
      "\n",
      "Tipos de dados antes da validação:\n",
      "age                         float64\n",
      "anaemia                       int64\n",
      "creatinine_phosphokinase      int64\n",
      "diabetes                      int64\n",
      "ejection_fraction             int64\n",
      "high_blood_pressure           int64\n",
      "platelets                   float64\n",
      "serum_creatinine            float64\n",
      "serum_sodium                  int64\n",
      "sex                           int64\n",
      "smoking                       int64\n",
      "time                          int64\n",
      "DEATH_EVENT                   int64\n",
      "dtype: object\n",
      "\n",
      "Validação concluída.\n"
     ]
    }
   ],
   "source": [
    "from DataEngineering.DataTypeValidator import DataTypeValidator\n",
    "\n",
    "# Validação dos tipos de dados\n",
    "data_type_validator = DataTypeValidator(dataset)\n",
    "data_type_validator.validate_types()"
   ]
  },
  {
   "cell_type": "markdown",
   "metadata": {},
   "source": [
    "Faremos agora uma análise visual para melhor identificar outliers. Para isso plotaremos os histogramas e boxplots para \n",
    "cada coluna do dataset."
   ]
  },
  {
   "cell_type": "code",
   "execution_count": 10,
   "metadata": {},
   "outputs": [
    {
     "ename": "TypeError",
     "evalue": "DataVisualizer.plot_distributions() missing 1 required positional argument: 'columns'",
     "output_type": "error",
     "traceback": [
      "\u001b[0;31m---------------------------------------------------------------------------\u001b[0m",
      "\u001b[0;31mTypeError\u001b[0m                                 Traceback (most recent call last)",
      "Cell \u001b[0;32mIn[10], line 5\u001b[0m\n\u001b[1;32m      3\u001b[0m \u001b[38;5;66;03m# Análise visual de distribuições e outliers\u001b[39;00m\n\u001b[1;32m      4\u001b[0m data_visualizer \u001b[38;5;241m=\u001b[39m DataVisualizer(dataset)\n\u001b[0;32m----> 5\u001b[0m \u001b[43mdata_visualizer\u001b[49m\u001b[38;5;241;43m.\u001b[39;49m\u001b[43mplot_distributions\u001b[49m\u001b[43m(\u001b[49m\u001b[43m)\u001b[49m\n\u001b[1;32m      6\u001b[0m data_visualizer\u001b[38;5;241m.\u001b[39mplot_boxplots()\n",
      "\u001b[0;31mTypeError\u001b[0m: DataVisualizer.plot_distributions() missing 1 required positional argument: 'columns'"
     ]
    }
   ],
   "source": [
    "from DataEngineering.DataVisualizer import DataVisualizer\n",
    "\n",
    "# Análise visual de distribuições e outliers\n",
    "data_visualizer = DataVisualizer(dataset)\n",
    "data_visualizer.plot_distributions()\n",
    "data_visualizer.plot_boxplots()"
   ]
  }
 ],
 "metadata": {
  "kernelspec": {
   "display_name": "vmpython",
   "language": "python",
   "name": "python3"
  },
  "language_info": {
   "codemirror_mode": {
    "name": "ipython",
    "version": 3
   },
   "file_extension": ".py",
   "mimetype": "text/x-python",
   "name": "python",
   "nbconvert_exporter": "python",
   "pygments_lexer": "ipython3",
   "version": "3.13.0"
  }
 },
 "nbformat": 4,
 "nbformat_minor": 2
}
